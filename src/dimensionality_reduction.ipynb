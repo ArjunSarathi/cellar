{
 "cells": [
  {
   "cell_type": "code",
   "metadata": {},
   "outputs": [],
   "source": [
    "import numpy as np\n",
    "from matplotlib import pyplot as plt\n",
    "import seaborn as sns\n",
    "\n",
    "from sklearn.decomposition import PCA\n",
    "import umap\n",
    "\n",
    "from src.utils_data import read_data, read_iris\n",
    "from src.utils_visualization import plot_images, reduce_and_plot, plot_pca_var_ratio"
   ]
  },
  {
   "cell_type": "code",
   "metadata": {},
   "outputs": [],
   "source": [
    "sns.set(style='white', context='notebook', rc={'figure.figsize':(5,5)})"
   ]
  },
  {
   "cell_type": "code",
   "metadata": {},
   "outputs": [],
   "source": [
    "xtrain, ytrain = read_iris()"
   ]
  },
  {
   "cell_type": "code",
   "metadata": {},
   "outputs": [],
   "source": [
    "fig = plt.figure()\n",
    "ax1 = fig.add_subplot(2, 2, 1)\n",
    "ax2 = fig.add_subplot(2, 2, 2)\n",
    "ax3 = fig.add_subplot(2, 2, 3, projection='3d')\n",
    "ax4 = fig.add_subplot(2, 2, 4, projection='3d')\n",
    "reduce_and_plot(xtrain, y=ytrain, ax=ax1, method='umap', dims=2)\n",
    "reduce_and_plot(xtrain, y=ytrain, ax=ax2, method='pca', dims=2)\n",
    "reduce_and_plot(xtrain, y=ytrain, ax=ax3, method='umap', dims=3)\n",
    "reduce_and_plot(xtrain, y=ytrain, ax=ax4, method='pca', dims=3)\n",
    "ax1.set_title(\"UMAP, dims=2\")\n",
    "ax2.set_title(\"PCA, dims=2\")\n",
    "ax3.set_title(\"UMAP, dims=3\")\n",
    "ax4.set_title(\"PCA, dims=3\")\n",
    "plt.show()"
   ]
  },
  {
   "cell_type": "code",
   "metadata": {},
   "outputs": [],
   "source": [
    "fig, ax1 = plt.subplots()\n",
    "ax1 = plot_pca_var_ratio(xtrain, ax1)\n",
    "plt.show()"
   ]
  }
 ],
 "metadata": {
  "kernelspec": {
   "display_name": "Python 3",
   "language": "python",
   "name": "python3"
  },
  "language_info": {
   "codemirror_mode": {
    "name": "ipython",
    "version": 3
   },
   "file_extension": ".py",
   "mimetype": "text/x-python",
   "name": "python",
   "nbconvert_exporter": "python",
   "pygments_lexer": "ipython3",
   "version": "3.7.5"
  }
 },
 "nbformat": 4,
 "nbformat_minor": 2
}