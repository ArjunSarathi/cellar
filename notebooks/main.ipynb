{
 "nbformat": 4,
 "nbformat_minor": 2,
 "metadata": {
  "language_info": {
   "name": "python",
   "codemirror_mode": {
    "name": "ipython",
    "version": 3
   },
   "version": "3.7.5-final"
  },
  "orig_nbformat": 2,
  "file_extension": ".py",
  "mimetype": "text/x-python",
  "name": "python",
  "npconvert_exporter": "python",
  "pygments_lexer": "ipython3",
  "version": 3,
  "kernelspec": {
   "name": "python37564bitpy37virtualenvaf7ccc66e32e4bb7b8264a3df6c67ef9",
   "display_name": "Python 3.7.5 64-bit ('py3.7': virtualenv)"
  }
 },
 "cells": [
  {
   "cell_type": "code",
   "execution_count": 1,
   "metadata": {},
   "outputs": [],
   "source": [
    "from acip.acip import ACIP\n",
    "from utils.utils_experiment import read_config, load_data\n",
    "from matplotlib import pyplot as plt\n",
    "import numpy as np\n",
    "import warnings\n",
    "warnings.filterwarnings('ignore')"
   ]
  },
  {
   "cell_type": "code",
   "execution_count": 2,
   "metadata": {},
   "outputs": [
    {
     "name": "stdout",
     "output_type": "stream",
     "text": "\n*************** Filtering genes ******************\nKeeping 1861 genes.\n\n*********** Reducing dimensionality **************\nUsed 20 components.\n\n****************** Clustering ********************\nTrying n_clusters=4: 100%|██████████| 2/2 [00:03<00:00,  1.78s/it]\n\nClustering complete.\nHighest score is achieved for n_clusters = 4\n\n*************** Finding Markers ******************\nCompleted clusters:: 100%|██████████| 4/4 [00:15<00:00,  3.92s/it]\n"
    }
   ],
   "source": [
    "dataset = 'spleen'\n",
    "X, Y, gene_ids = load_data(dataset)\n",
    "w = ACIP(X, config=dataset, verbose=False, col_ids=gene_ids)\n",
    "w.flow()"
   ]
  }
 ]
}