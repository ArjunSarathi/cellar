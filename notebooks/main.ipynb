{
 "nbformat": 4,
 "nbformat_minor": 2,
 "metadata": {
  "language_info": {
   "name": "python",
   "codemirror_mode": {
    "name": "ipython",
    "version": 3
   },
   "version": "3.7.5-final"
  },
  "orig_nbformat": 2,
  "file_extension": ".py",
  "mimetype": "text/x-python",
  "name": "python",
  "npconvert_exporter": "python",
  "pygments_lexer": "ipython3",
  "version": 3,
  "kernelspec": {
   "name": "python37564bitpy37virtualenvaf7ccc66e32e4bb7b8264a3df6c67ef9",
   "display_name": "Python 3.7.5 64-bit ('py3.7': virtualenv)"
  }
 },
 "cells": [
  {
   "cell_type": "code",
   "execution_count": 1,
   "metadata": {},
   "outputs": [],
   "source": [
    "from src import Pipeline, Plotter\n",
    "from src.utils.utils_experiment import load_data\n",
    "import numpy as np\n",
    "import warnings\n",
    "warnings.filterwarnings('ignore')"
   ]
  },
  {
   "cell_type": "code",
   "execution_count": 2,
   "metadata": {},
   "outputs": [
    {
     "name": "stdout",
     "output_type": "stream",
     "text": "Dim: Knee found at 12 components. Using n=12.\nClu: Finished clustering for k=2. Score=0.13.\nClu: Finished clustering for k=4. Score=0.24.\nClu: Best score achieved for k=4 at 0.24.\nMark: Finished finding markers for cluster 0.\nMark: Finished finding markers for cluster 1.\nMark: Finished finding markers for cluster 2.\nMark: Finished finding markers for cluster 3.\nIde: Finished finding lvl1 types.\nIde: Finished finding lvl2 types.\n"
    }
   ],
   "source": [
    "dataset = 'spleen'\n",
    "X, Y, gene_ids = load_data(dataset)\n",
    "pipe = Pipeline(X, config='configs/'+dataset+\".ini\", verbose=True, col_ids=gene_ids)\n",
    "pipe.run()"
   ]
  },
  {
   "cell_type": "code",
   "execution_count": 4,
   "metadata": {},
   "outputs": [
    {
     "data": {
      "text/plain": "'states/200228-00-29-18.pkl'"
     },
     "execution_count": 4,
     "metadata": {},
     "output_type": "execute_result"
    }
   ],
   "source": [
    "pipe.save()"
   ]
  },
  {
   "cell_type": "code",
   "execution_count": 4,
   "metadata": {},
   "outputs": [],
   "source": [
    "import pickle\n",
    "with open(\"states/200228-00-29-18.pkl\", \"rb\") as f:\n",
    "    a = pickle.load(f)"
   ]
  }
 ]
}