{
 "nbformat": 4,
 "nbformat_minor": 2,
 "metadata": {
  "language_info": {
   "name": "python",
   "codemirror_mode": {
    "name": "ipython",
    "version": 3
   },
   "version": "3.7.5-final"
  },
  "orig_nbformat": 2,
  "file_extension": ".py",
  "mimetype": "text/x-python",
  "name": "python",
  "npconvert_exporter": "python",
  "pygments_lexer": "ipython3",
  "version": 3,
  "kernelspec": {
   "name": "python37564bitpy37virtualenvaf7ccc66e32e4bb7b8264a3df6c67ef9",
   "display_name": "Python 3.7.5 64-bit ('py3.7': virtualenv)"
  }
 },
 "cells": [
  {
   "cell_type": "code",
   "execution_count": 1,
   "metadata": {},
   "outputs": [],
   "source": [
    "from src import Pipeline, Plotter\n",
    "from src.utils.read import load_data\n",
    "import numpy as np\n",
    "import pandas as pd"
   ]
  },
  {
   "cell_type": "code",
   "execution_count": 4,
   "metadata": {},
   "outputs": [
    {
     "output_type": "stream",
     "name": "stdout",
     "text": "PCA: Knee found at 12 components. Using n=12.\nINFO:Cluster:Initializing OPTICS.\nINFO:Cluster:Found 25 labels using OPTICS.Score={score:.2f}.\nINFO:Cluster:Found 4915 noisy points. Assigning label -1.\nTTest: Using 300 markers.\nTTest: Running marker discovery in parallel.\n"
    }
   ],
   "source": [
    "X, ids = load_data('spleen')\n",
    "pipe = Pipeline(X, config=f\"configs/config.ini\", verbose=True, col_ids=ids)\n",
    "plotter = Plotter(pipe)\n",
    "pipe.run()"
   ]
  },
  {
   "cell_type": "code",
   "execution_count": null,
   "metadata": {},
   "outputs": [],
   "source": [
    "plotter.plot_clu()"
   ]
  }
 ]
}